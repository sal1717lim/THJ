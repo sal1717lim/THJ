{
  "nbformat": 4,
  "nbformat_minor": 0,
  "metadata": {
    "colab": {
      "name": "tp_thj.ipynb",
      "provenance": [],
      "include_colab_link": true
    },
    "kernelspec": {
      "name": "python3",
      "display_name": "Python 3"
    },
    "language_info": {
      "name": "python"
    }
  },
  "cells": [
    {
      "cell_type": "markdown",
      "metadata": {
        "id": "view-in-github",
        "colab_type": "text"
      },
      "source": [
        "<a href=\"https://colab.research.google.com/github/sal1717lim/THJ/blob/main/tp_thj.ipynb\" target=\"_parent\"><img src=\"https://colab.research.google.com/assets/colab-badge.svg\" alt=\"Open In Colab\"/></a>"
      ]
    },
    {
      "cell_type": "code",
      "metadata": {
        "id": "3CAqaRYslKUY"
      },
      "source": [
        "import numpy as np\n",
        " \n",
        "def creer_taille(nb_joueur=2,nb_strategie=3):\n",
        "  taille=()\n",
        "  for i in range(nb_joueur):\n",
        "    taille=taille+(nb_strategie,)\n",
        "  return taille"
      ],
      "execution_count": null,
      "outputs": []
    },
    {
      "cell_type": "code",
      "metadata": {
        "id": "7Ablf_14x-pN"
      },
      "source": [
        "import random as rd\n",
        "def randtup(low=-10,high=10,nb_joueur=2):\n",
        "  issue=()\n",
        "  for i in range(nb_joueur):\n",
        "    issue=issue+(rd.randint(low,high),)\n",
        "  return issue"
      ],
      "execution_count": null,
      "outputs": []
    },
    {
      "cell_type": "code",
      "metadata": {
        "colab": {
          "base_uri": "https://localhost:8080/"
        },
        "id": "UdThVuuXyTed",
        "outputId": "005db3e8-82cc-48ef-af95-91749782aa04"
      },
      "source": [
        "import numpy as np\n",
        "def forme_normal(nb_joueur=2,nb_strategie=3):\n",
        "  taille=creer_taille(nb_joueur,nb_strategie)\n",
        "  FN=np.zeros(taille).tolist()\n",
        "  for i in range(taille[0]):\n",
        "    for j in range(taille[1]):\n",
        "      FN[i][j]=randtup(nb_joueur=nb_joueur)\n",
        "  return FN\n",
        "FN=forme_normal(2,3)\n",
        "FN"
      ],
      "execution_count": null,
      "outputs": [
        {
          "output_type": "execute_result",
          "data": {
            "text/plain": [
              "[[(10, 10), (-4, -8), (-9, 0)],\n",
              " [(-9, 7), (-3, -8), (7, 5)],\n",
              " [(5, -9), (1, -6), (-3, 9)]]"
            ]
          },
          "metadata": {
            "tags": []
          },
          "execution_count": 59
        }
      ]
    },
    {
      "cell_type": "code",
      "metadata": {
        "id": "y0Cbt5fI29en",
        "colab": {
          "base_uri": "https://localhost:8080/"
        },
        "outputId": "48298dc3-b7de-470e-8fbc-3de6c470252f"
      },
      "source": [
        "#Strictement dominante\n",
        "def sd(FN,joueur=0,strategie=3):\n",
        "  var=FN.copy()\n",
        "  for strat in FN:\n",
        "    var.remove(strat)\n",
        "    i=0\n",
        "    dominante=True\n",
        "    while i <len(var) and dominante:\n",
        "      j=0\n",
        "      while j<len(strat) and dominante:\n",
        "        \n",
        "        if strat[j][joueur]<var[i][j][joueur]:\n",
        "          dominante=False\n",
        "          var=FN.copy()\n",
        "        j=j+1\n",
        "      i=i+1\n",
        "    if dominante:\n",
        "      return strat\n",
        "  return None\n",
        "  \n",
        " \n",
        "print(sd(FN,0,3))\n",
        "print(sd([list(i) for i in zip(*FN)],1,3))"
      ],
      "execution_count": null,
      "outputs": [
        {
          "output_type": "stream",
          "text": [
            "[(1, 2), (8, 9), (5, -4)]\n",
            "[(8, 9)]\n"
          ],
          "name": "stdout"
        }
      ]
    },
    {
      "cell_type": "code",
      "metadata": {
        "colab": {
          "base_uri": "https://localhost:8080/"
        },
        "id": "eTYe68TtFEwW",
        "outputId": "95372598-2543-49f3-99a9-7c169e769e15"
      },
      "source": [
        "#Faiblement dominé\n",
        "def fd(FN,joueur=0):\n",
        "  FD=[]\n",
        "  var=FN.copy()\n",
        "  for strat in FN:\n",
        "    var.remove(strat)\n",
        "    i=0\n",
        "    dominante=True\n",
        "    while i <len(var) and dominante:\n",
        "      j=0\n",
        "      while j<len(strat) and dominante:\n",
        "\n",
        "        if strat[j][joueur]<var[i][j][joueur]:\n",
        "          dominante=False\n",
        "          var=FN.copy()\n",
        "        j=j+1\n",
        "      if dominante :\n",
        "        if strat not in FD:\n",
        "         \n",
        "          FD.append((strat,var[i]))\n",
        "        \n",
        "        var=FN.copy()\n",
        "      i=i+1\n",
        "    \n",
        "  return FD\n",
        "print(fd(FN,0))\n",
        "print(fd([list(i) for i in zip(*FN)],1))"
      ],
      "execution_count": null,
      "outputs": [
        {
          "output_type": "stream",
          "text": [
            "[]\n",
            "[([(7, -4)], [(9, -10)]), ([(7, -4)], [(7, -4)])]\n"
          ],
          "name": "stdout"
        }
      ]
    },
    {
      "cell_type": "code",
      "metadata": {
        "colab": {
          "base_uri": "https://localhost:8080/"
        },
        "id": "g6GV5kojkLkR",
        "outputId": "3ce6881e-8d0c-4c9a-a58b-e3408753710e"
      },
      "source": [
        "\n",
        "exemple=[[(-1,-1),(-10,0)],[(0,-10),(-5,-5)]]\n",
        "def ES(FN):\n",
        "  if len(fd(FN,0))!=0:\n",
        "    FN.remove(fd(FN,0)[0][1])\n",
        "    ES(FN)\n",
        "  \n",
        "  if len(fd([list(i) for i in zip(*FN)],))!=0:\n",
        "      FN=[list(i) for i in zip(*FN)]\n",
        "      FN.remove(fd(FN,1)[0][1])\n",
        "      FN=[list(i) for i in zip(*FN)]\n",
        "      ES(FN)\n",
        "\n",
        "  return FN\n",
        "\n",
        "ES(exemple)"
      ],
      "execution_count": null,
      "outputs": [
        {
          "output_type": "execute_result",
          "data": {
            "text/plain": [
              "[[(-5, -5)]]"
            ]
          },
          "metadata": {
            "tags": []
          },
          "execution_count": 93
        }
      ]
    },
    {
      "cell_type": "code",
      "metadata": {
        "colab": {
          "base_uri": "https://localhost:8080/"
        },
        "id": "23SGwbhIq6NN",
        "outputId": "65780147-86e5-459c-adf5-58fc4d31d8fa"
      },
      "source": [
        "\n",
        "FN=forme_normal(2,2)\n",
        "print(FN)\n",
        "ES(FN)"
      ],
      "execution_count": null,
      "outputs": [
        {
          "output_type": "stream",
          "text": [
            "[[(1, 2), (0, 6)], [(10, -9), (1, -7)]]\n"
          ],
          "name": "stdout"
        },
        {
          "output_type": "execute_result",
          "data": {
            "text/plain": [
              "[[(1, -7)]]"
            ]
          },
          "metadata": {
            "tags": []
          },
          "execution_count": 95
        }
      ]
    }
  ]
}